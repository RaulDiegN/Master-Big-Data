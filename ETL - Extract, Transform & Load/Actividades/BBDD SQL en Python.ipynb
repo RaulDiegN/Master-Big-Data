{
 "cells": [
  {
   "cell_type": "markdown",
   "id": "f689988e",
   "metadata": {},
   "source": [
    "# Ejercicio 2 - Venta de coches KARLS"
   ]
  },
  {
   "cell_type": "markdown",
   "id": "bc67b413",
   "metadata": {},
   "source": [
    "## Creación Base de Datos"
   ]
  },
  {
   "cell_type": "code",
   "execution_count": 1,
   "id": "1b5a17d9",
   "metadata": {},
   "outputs": [],
   "source": [
    "import sqlite3"
   ]
  },
  {
   "cell_type": "code",
   "execution_count": 2,
   "id": "fe36be5c",
   "metadata": {},
   "outputs": [],
   "source": [
    "# Conexión a base de datos\n",
    "\n",
    "conn = sqlite3.connect('karls.sqlite')\n",
    "cursor = conn.cursor()"
   ]
  },
  {
   "cell_type": "code",
   "execution_count": 3,
   "id": "7fa7c0df",
   "metadata": {},
   "outputs": [
    {
     "data": {
      "text/plain": [
       "<sqlite3.Cursor at 0x193f3ad63c0>"
      ]
     },
     "execution_count": 3,
     "metadata": {},
     "output_type": "execute_result"
    }
   ],
   "source": [
    "# Creación tabla Lineas de producto\n",
    "\n",
    "query_creacionTabla = '''\n",
    "CREATE TABLE LINEAS\n",
    "    (ID INT NOT NULL,\n",
    "    CODIGO TEXT NOT NULL,\n",
    "    DESCRIPCION TEXT,\n",
    "    PRIMARY KEY (ID, CODIGO)\n",
    "    )\n",
    "'''\n",
    "cursor.execute(query_creacionTabla)"
   ]
  },
  {
   "cell_type": "code",
   "execution_count": 4,
   "id": "509e59ed",
   "metadata": {},
   "outputs": [
    {
     "data": {
      "text/plain": [
       "<sqlite3.Cursor at 0x193f3ad63c0>"
      ]
     },
     "execution_count": 4,
     "metadata": {},
     "output_type": "execute_result"
    }
   ],
   "source": [
    "# Creación tabla Productos\n",
    "\n",
    "query_creacionTabla = '''\n",
    "CREATE TABLE PRODUCTOS\n",
    "    (ID INT NOT NULL,\n",
    "    CODIGO TEXT NOT NULL,\n",
    "    NOMBRE TEXT,\n",
    "    CODIGO_LINEA TEXT,\n",
    "    PRECIO_COMPRA FLOAT,\n",
    "    PRIMARY KEY (ID, CODIGO)\n",
    "    )\n",
    "'''\n",
    "cursor.execute(query_creacionTabla)"
   ]
  },
  {
   "cell_type": "code",
   "execution_count": 5,
   "id": "8b3792f5",
   "metadata": {},
   "outputs": [
    {
     "data": {
      "text/plain": [
       "<sqlite3.Cursor at 0x193f3ad63c0>"
      ]
     },
     "execution_count": 5,
     "metadata": {},
     "output_type": "execute_result"
    }
   ],
   "source": [
    "# Creación tabla Clientes\n",
    "\n",
    "query_creacionTabla = '''\n",
    "CREATE TABLE CLIENTES\n",
    "    (ID INT PRIMARY KEY NOT NULL,\n",
    "    NOMBRE TEXT,\n",
    "    TELEFONO INT,\n",
    "    DIRECCION TEXT,\n",
    "    CIUDAD TEXT,\n",
    "    ESTADO TEXT,\n",
    "    CODIGO_POSTAL TEXT,\n",
    "    PAIS TEXT\n",
    "    )\n",
    "'''\n",
    "cursor.execute(query_creacionTabla)"
   ]
  },
  {
   "cell_type": "code",
   "execution_count": 6,
   "id": "76eb0c18",
   "metadata": {},
   "outputs": [
    {
     "data": {
      "text/plain": [
       "<sqlite3.Cursor at 0x193f3ad63c0>"
      ]
     },
     "execution_count": 6,
     "metadata": {},
     "output_type": "execute_result"
    }
   ],
   "source": [
    "# Creación tabla Ventas\n",
    "\n",
    "query_creacionTabla = '''\n",
    "CREATE TABLE VENTAS\n",
    "    (ID INT PRIMARY KEY NOT NULL,\n",
    "    ID_ORDEN INT,\n",
    "    CODIGO_PRODUCTO TEXT,\n",
    "    PRECIO FLOAT,\n",
    "    CANTIDAD INT\n",
    "    )\n",
    "'''\n",
    "cursor.execute(query_creacionTabla)"
   ]
  },
  {
   "cell_type": "code",
   "execution_count": 7,
   "id": "31fb27be",
   "metadata": {},
   "outputs": [
    {
     "data": {
      "text/plain": [
       "<sqlite3.Cursor at 0x193f3ad63c0>"
      ]
     },
     "execution_count": 7,
     "metadata": {},
     "output_type": "execute_result"
    }
   ],
   "source": [
    "# Creación tabla Ordenes, he añadido un campo más: Precio Total. Este campo le da más\n",
    "# sentido a la tabla ordenes\n",
    "\n",
    "query_creacionTabla = '''\n",
    "CREATE TABLE ORDENES\n",
    "    (ID INT PRIMARY KEY NOT NULL,\n",
    "    FECHA TEXT,\n",
    "    ID_CLIENTE INT,\n",
    "    PRECIO_TOTAL FLOAT\n",
    "    )\n",
    "'''\n",
    "cursor.execute(query_creacionTabla)"
   ]
  },
  {
   "cell_type": "markdown",
   "id": "2356783d",
   "metadata": {},
   "source": [
    "## Tratamiento de datos - Ventas.csv"
   ]
  },
  {
   "cell_type": "code",
   "execution_count": 8,
   "id": "5ae9c5c7",
   "metadata": {},
   "outputs": [],
   "source": [
    "import pandas as pd"
   ]
  },
  {
   "cell_type": "code",
   "execution_count": 9,
   "id": "f84fb536",
   "metadata": {
    "scrolled": false
   },
   "outputs": [],
   "source": [
    "# Importamos la informacion a un DataFrame\n",
    "\n",
    "df = pd.read_csv('ventas.csv')"
   ]
  },
  {
   "cell_type": "code",
   "execution_count": 10,
   "id": "c025cc69",
   "metadata": {},
   "outputs": [
    {
     "data": {
      "text/plain": [
       "no_orden             int64\n",
       "codigo_producto     object\n",
       "cantidad_orden       int64\n",
       "precio_cada        float64\n",
       "nombre_producto     object\n",
       "linea_productos     object\n",
       "descr               object\n",
       "precio_compra      float64\n",
       "fecha_orden         object\n",
       "no_cliente           int64\n",
       "nombre_cliente      object\n",
       "tlf                 object\n",
       "direccion           object\n",
       "ciudad              object\n",
       "estado              object\n",
       "codigo_postal       object\n",
       "pais                object\n",
       "dtype: object"
      ]
     },
     "execution_count": 10,
     "metadata": {},
     "output_type": "execute_result"
    }
   ],
   "source": [
    "# Comprobamos que los tipos de las columnas sean correctos\n",
    "\n",
    "df.dtypes"
   ]
  },
  {
   "cell_type": "markdown",
   "id": "0a5778cc",
   "metadata": {},
   "source": [
    "## Almacenamos la información en la BBDD"
   ]
  },
  {
   "cell_type": "code",
   "execution_count": 11,
   "id": "f140f8d0",
   "metadata": {},
   "outputs": [],
   "source": [
    "# Primero, tenemos que introducir el campo precio_total en el dataframe\n",
    "\n",
    "df['precio_total'] = df['precio_cada'] * df['cantidad_orden']"
   ]
  },
  {
   "cell_type": "code",
   "execution_count": 12,
   "id": "a3cc054e",
   "metadata": {},
   "outputs": [],
   "source": [
    "# Posteriormente, creamos un dataframe por cada tabla con los campos que necesitamos\n",
    "\n",
    "df_lineas = pd.DataFrame({'CODIGO':df['linea_productos'], 'DESCRIPCION':df['descr']})\n",
    "\n",
    "df_productos = pd.DataFrame({'CODIGO':df['codigo_producto'], 'NOMBRE':df['nombre_producto'],\n",
    "                            'CODIGO_LINEA':df['linea_productos'], 'PRECIO_COMPRA':df['precio_compra']})\n",
    "\n",
    "df_clientes = pd.DataFrame({'ID':df['no_cliente'], 'NOMBRE':df['nombre_cliente'],\n",
    "                            'TELEFONO':df['tlf'], 'DIRECCION':df['direccion'],\n",
    "                            'CIUDAD':df['ciudad'], 'ESTADO':df['estado'], \n",
    "                            'CODIGO_POSTAL':df['codigo_postal'],'PAIS':df['pais']})\n",
    "\n",
    "df_ventas = pd.DataFrame({'ID':list(df.index.values + 1), 'ID_ORDEN':df['no_orden'],\n",
    "                          'CODIGO_PRODUCTO':df['codigo_producto'],  'PRECIO':df['precio_cada'],\n",
    "                          'CANTIDAD':df['cantidad_orden']})\n",
    "\n",
    "df_ordenes = pd.DataFrame({'ID':df['no_orden'], 'FECHA':df['fecha_orden'],\n",
    "                            'ID_CLIENTE':df['no_cliente']})"
   ]
  },
  {
   "cell_type": "code",
   "execution_count": 13,
   "id": "e33eaead",
   "metadata": {},
   "outputs": [],
   "source": [
    "# Como va a haber duplicados ya que hemos desagregado los datos\n",
    "# necesitamos borrar estos antes de almacenarlos en la base de datos\n",
    "\n",
    "df_lineas = df_lineas.drop_duplicates()\n",
    "df_productos = df_productos.drop_duplicates()\n",
    "df_clientes = df_clientes.drop_duplicates()\n",
    "df_ordenes = df_ordenes.drop_duplicates()"
   ]
  },
  {
   "cell_type": "code",
   "execution_count": 14,
   "id": "06358c36",
   "metadata": {},
   "outputs": [],
   "source": [
    "# Añadimos la columna precio total a ordenes\n",
    "\n",
    "df_ordenes['PRECIO_TOTAL'] = list(df.groupby('no_orden')['precio_total'].sum())"
   ]
  },
  {
   "cell_type": "code",
   "execution_count": 15,
   "id": "0774ad3a",
   "metadata": {},
   "outputs": [],
   "source": [
    "# Añadimos los IDs a los dataframe que no los tienen\n",
    "\n",
    "df_lineas.insert(0, 'ID', list(df_lineas.index.values + 1))\n",
    "df_productos.insert(0, 'ID', list(df_productos.index.values + 1))"
   ]
  },
  {
   "cell_type": "code",
   "execution_count": 16,
   "id": "32020066",
   "metadata": {},
   "outputs": [
    {
     "data": {
      "text/plain": [
       "326"
      ]
     },
     "execution_count": 16,
     "metadata": {},
     "output_type": "execute_result"
    }
   ],
   "source": [
    "# Almacenamos en la base de datos la información correspondiente\n",
    "\n",
    "df_lineas.to_sql('LINEAS', conn, index=False, if_exists='append')\n",
    "df_productos.to_sql('PRODUCTOS', conn, index=False, if_exists='append')\n",
    "df_clientes.to_sql('CLIENTES', conn, index=False, if_exists='append')\n",
    "df_ventas.to_sql('VENTAS', conn, index=False, if_exists='append')\n",
    "df_ordenes.to_sql('ORDENES', conn, index=False, if_exists='append')"
   ]
  },
  {
   "cell_type": "markdown",
   "id": "49aa73be",
   "metadata": {},
   "source": [
    "## Acceso a la base de datos World"
   ]
  },
  {
   "cell_type": "code",
   "execution_count": 17,
   "id": "3342a2c9",
   "metadata": {},
   "outputs": [],
   "source": [
    "#Importamos la librería y nos conectamos con las credenciales correspondientes\n",
    "\n",
    "import pymysql\n",
    "\n",
    "database_host = 'relational.fit.cvut.cz'\n",
    "username = 'guest'\n",
    "password = 'relational'\n",
    "database_name = 'world'\n",
    "\n",
    "db = pymysql.connect(host=database_host,\n",
    "                     user=username,\n",
    "                     password=password,\n",
    "                     database=database_name)"
   ]
  },
  {
   "cell_type": "code",
   "execution_count": 18,
   "id": "9a5f709b",
   "metadata": {},
   "outputs": [],
   "source": [
    "# Quitamos los warnings\n",
    "\n",
    "import warnings\n",
    "warnings.filterwarnings(\"ignore\")"
   ]
  },
  {
   "cell_type": "code",
   "execution_count": 19,
   "id": "5a74ceda",
   "metadata": {},
   "outputs": [
    {
     "data": {
      "text/html": [
       "<div>\n",
       "<style scoped>\n",
       "    .dataframe tbody tr th:only-of-type {\n",
       "        vertical-align: middle;\n",
       "    }\n",
       "\n",
       "    .dataframe tbody tr th {\n",
       "        vertical-align: top;\n",
       "    }\n",
       "\n",
       "    .dataframe thead th {\n",
       "        text-align: right;\n",
       "    }\n",
       "</style>\n",
       "<table border=\"1\" class=\"dataframe\">\n",
       "  <thead>\n",
       "    <tr style=\"text-align: right;\">\n",
       "      <th></th>\n",
       "      <th>Tables_in_world</th>\n",
       "    </tr>\n",
       "  </thead>\n",
       "  <tbody>\n",
       "    <tr>\n",
       "      <th>0</th>\n",
       "      <td>City</td>\n",
       "    </tr>\n",
       "    <tr>\n",
       "      <th>1</th>\n",
       "      <td>Country</td>\n",
       "    </tr>\n",
       "    <tr>\n",
       "      <th>2</th>\n",
       "      <td>CountryLanguage</td>\n",
       "    </tr>\n",
       "  </tbody>\n",
       "</table>\n",
       "</div>"
      ],
      "text/plain": [
       "   Tables_in_world\n",
       "0             City\n",
       "1          Country\n",
       "2  CountryLanguage"
      ]
     },
     "execution_count": 19,
     "metadata": {},
     "output_type": "execute_result"
    }
   ],
   "source": [
    "# Comprobamos que nos hemos conectado correctamente\n",
    "\n",
    "pd.read_sql('SHOW TABLES', db)"
   ]
  },
  {
   "cell_type": "code",
   "execution_count": 20,
   "id": "b684ddd0",
   "metadata": {},
   "outputs": [],
   "source": [
    "# Definimos y ejecutamos una consulta para obtener el idioma por ciudad y pais\n",
    "\n",
    "query = '''\n",
    "SELECT Country.Name, City.Name, Language, Percentage\n",
    "FROM Country\n",
    "JOIN City\n",
    "ON Country.Code = City.CountryCode\n",
    "JOIN CountryLanguage\n",
    "ON Country.Code = CountryLanguage.CountryCode\n",
    "'''\n",
    "\n",
    "df_languages = pd.read_sql(query, db)"
   ]
  },
  {
   "cell_type": "code",
   "execution_count": 21,
   "id": "003ab682",
   "metadata": {},
   "outputs": [
    {
     "data": {
      "text/html": [
       "<div>\n",
       "<style scoped>\n",
       "    .dataframe tbody tr th:only-of-type {\n",
       "        vertical-align: middle;\n",
       "    }\n",
       "\n",
       "    .dataframe tbody tr th {\n",
       "        vertical-align: top;\n",
       "    }\n",
       "\n",
       "    .dataframe thead th {\n",
       "        text-align: right;\n",
       "    }\n",
       "</style>\n",
       "<table border=\"1\" class=\"dataframe\">\n",
       "  <thead>\n",
       "    <tr style=\"text-align: right;\">\n",
       "      <th></th>\n",
       "      <th>Name</th>\n",
       "      <th>Name</th>\n",
       "      <th>Language</th>\n",
       "      <th>Percentage</th>\n",
       "    </tr>\n",
       "  </thead>\n",
       "  <tbody>\n",
       "    <tr>\n",
       "      <th>0</th>\n",
       "      <td>Afghanistan</td>\n",
       "      <td>Kabul</td>\n",
       "      <td>Balochi</td>\n",
       "      <td>0.9</td>\n",
       "    </tr>\n",
       "    <tr>\n",
       "      <th>1</th>\n",
       "      <td>Afghanistan</td>\n",
       "      <td>Kabul</td>\n",
       "      <td>Dari</td>\n",
       "      <td>32.1</td>\n",
       "    </tr>\n",
       "    <tr>\n",
       "      <th>2</th>\n",
       "      <td>Afghanistan</td>\n",
       "      <td>Kabul</td>\n",
       "      <td>Pashto</td>\n",
       "      <td>52.4</td>\n",
       "    </tr>\n",
       "    <tr>\n",
       "      <th>3</th>\n",
       "      <td>Afghanistan</td>\n",
       "      <td>Kabul</td>\n",
       "      <td>Turkmenian</td>\n",
       "      <td>1.9</td>\n",
       "    </tr>\n",
       "    <tr>\n",
       "      <th>4</th>\n",
       "      <td>Afghanistan</td>\n",
       "      <td>Kabul</td>\n",
       "      <td>Uzbek</td>\n",
       "      <td>8.8</td>\n",
       "    </tr>\n",
       "    <tr>\n",
       "      <th>...</th>\n",
       "      <td>...</td>\n",
       "      <td>...</td>\n",
       "      <td>...</td>\n",
       "      <td>...</td>\n",
       "    </tr>\n",
       "    <tr>\n",
       "      <th>30665</th>\n",
       "      <td>Palestine</td>\n",
       "      <td>Jabaliya</td>\n",
       "      <td>Hebrew</td>\n",
       "      <td>4.1</td>\n",
       "    </tr>\n",
       "    <tr>\n",
       "      <th>30666</th>\n",
       "      <td>Palestine</td>\n",
       "      <td>Nablus</td>\n",
       "      <td>Arabic</td>\n",
       "      <td>95.9</td>\n",
       "    </tr>\n",
       "    <tr>\n",
       "      <th>30667</th>\n",
       "      <td>Palestine</td>\n",
       "      <td>Nablus</td>\n",
       "      <td>Hebrew</td>\n",
       "      <td>4.1</td>\n",
       "    </tr>\n",
       "    <tr>\n",
       "      <th>30668</th>\n",
       "      <td>Palestine</td>\n",
       "      <td>Rafah</td>\n",
       "      <td>Arabic</td>\n",
       "      <td>95.9</td>\n",
       "    </tr>\n",
       "    <tr>\n",
       "      <th>30669</th>\n",
       "      <td>Palestine</td>\n",
       "      <td>Rafah</td>\n",
       "      <td>Hebrew</td>\n",
       "      <td>4.1</td>\n",
       "    </tr>\n",
       "  </tbody>\n",
       "</table>\n",
       "<p>30670 rows × 4 columns</p>\n",
       "</div>"
      ],
      "text/plain": [
       "              Name      Name    Language  Percentage\n",
       "0      Afghanistan     Kabul     Balochi         0.9\n",
       "1      Afghanistan     Kabul        Dari        32.1\n",
       "2      Afghanistan     Kabul      Pashto        52.4\n",
       "3      Afghanistan     Kabul  Turkmenian         1.9\n",
       "4      Afghanistan     Kabul       Uzbek         8.8\n",
       "...            ...       ...         ...         ...\n",
       "30665    Palestine  Jabaliya      Hebrew         4.1\n",
       "30666    Palestine    Nablus      Arabic        95.9\n",
       "30667    Palestine    Nablus      Hebrew         4.1\n",
       "30668    Palestine     Rafah      Arabic        95.9\n",
       "30669    Palestine     Rafah      Hebrew         4.1\n",
       "\n",
       "[30670 rows x 4 columns]"
      ]
     },
     "execution_count": 21,
     "metadata": {},
     "output_type": "execute_result"
    }
   ],
   "source": [
    "df_languages"
   ]
  },
  {
   "cell_type": "markdown",
   "id": "2e8ed52f",
   "metadata": {},
   "source": [
    "Observo que hay más de un idioma por ciudad, por lo que hay que establecer un criterio para definir el idioma elegido para cada cliente."
   ]
  },
  {
   "cell_type": "markdown",
   "id": "1da37a5c",
   "metadata": {},
   "source": [
    "## Creando Tabla Idiomas-Cliente\n",
    "\n",
    "El criterio de eleccion que voy a usar es según el \"porcentaje\" (tabla CountryLanguage) de uso del idioma en cada país."
   ]
  },
  {
   "cell_type": "code",
   "execution_count": 22,
   "id": "f45b8b33",
   "metadata": {},
   "outputs": [
    {
     "data": {
      "text/html": [
       "<div>\n",
       "<style scoped>\n",
       "    .dataframe tbody tr th:only-of-type {\n",
       "        vertical-align: middle;\n",
       "    }\n",
       "\n",
       "    .dataframe tbody tr th {\n",
       "        vertical-align: top;\n",
       "    }\n",
       "\n",
       "    .dataframe thead th {\n",
       "        text-align: right;\n",
       "    }\n",
       "</style>\n",
       "<table border=\"1\" class=\"dataframe\">\n",
       "  <thead>\n",
       "    <tr style=\"text-align: right;\">\n",
       "      <th></th>\n",
       "      <th>Country</th>\n",
       "      <th>Language</th>\n",
       "      <th>Percentage</th>\n",
       "    </tr>\n",
       "  </thead>\n",
       "  <tbody>\n",
       "    <tr>\n",
       "      <th>0</th>\n",
       "      <td>Aruba</td>\n",
       "      <td>Papiamento</td>\n",
       "      <td>76.7</td>\n",
       "    </tr>\n",
       "    <tr>\n",
       "      <th>1</th>\n",
       "      <td>Afghanistan</td>\n",
       "      <td>Pashto</td>\n",
       "      <td>52.4</td>\n",
       "    </tr>\n",
       "    <tr>\n",
       "      <th>2</th>\n",
       "      <td>Angola</td>\n",
       "      <td>Ovimbundu</td>\n",
       "      <td>37.2</td>\n",
       "    </tr>\n",
       "    <tr>\n",
       "      <th>3</th>\n",
       "      <td>Anguilla</td>\n",
       "      <td>English</td>\n",
       "      <td>0.0</td>\n",
       "    </tr>\n",
       "    <tr>\n",
       "      <th>4</th>\n",
       "      <td>Albania</td>\n",
       "      <td>Albaniana</td>\n",
       "      <td>97.9</td>\n",
       "    </tr>\n",
       "    <tr>\n",
       "      <th>...</th>\n",
       "      <td>...</td>\n",
       "      <td>...</td>\n",
       "      <td>...</td>\n",
       "    </tr>\n",
       "    <tr>\n",
       "      <th>235</th>\n",
       "      <td>Yemen</td>\n",
       "      <td>Arabic</td>\n",
       "      <td>99.6</td>\n",
       "    </tr>\n",
       "    <tr>\n",
       "      <th>236</th>\n",
       "      <td>Yugoslavia</td>\n",
       "      <td>Serbo-Croatian</td>\n",
       "      <td>75.2</td>\n",
       "    </tr>\n",
       "    <tr>\n",
       "      <th>237</th>\n",
       "      <td>South Africa</td>\n",
       "      <td>Zulu</td>\n",
       "      <td>22.7</td>\n",
       "    </tr>\n",
       "    <tr>\n",
       "      <th>238</th>\n",
       "      <td>Zambia</td>\n",
       "      <td>Bemba</td>\n",
       "      <td>29.7</td>\n",
       "    </tr>\n",
       "    <tr>\n",
       "      <th>239</th>\n",
       "      <td>Zimbabwe</td>\n",
       "      <td>Shona</td>\n",
       "      <td>72.1</td>\n",
       "    </tr>\n",
       "  </tbody>\n",
       "</table>\n",
       "<p>240 rows × 3 columns</p>\n",
       "</div>"
      ],
      "text/plain": [
       "          Country        Language  Percentage\n",
       "0           Aruba      Papiamento        76.7\n",
       "1     Afghanistan          Pashto        52.4\n",
       "2          Angola       Ovimbundu        37.2\n",
       "3        Anguilla         English         0.0\n",
       "4         Albania       Albaniana        97.9\n",
       "..            ...             ...         ...\n",
       "235         Yemen          Arabic        99.6\n",
       "236    Yugoslavia  Serbo-Croatian        75.2\n",
       "237  South Africa            Zulu        22.7\n",
       "238        Zambia           Bemba        29.7\n",
       "239      Zimbabwe           Shona        72.1\n",
       "\n",
       "[240 rows x 3 columns]"
      ]
     },
     "execution_count": 22,
     "metadata": {},
     "output_type": "execute_result"
    }
   ],
   "source": [
    "#En la siguiente columna lo que hago es seleccionar el idioma de cada país que más gente habla. \n",
    "\n",
    "query = '''\n",
    "SELECT DISTINCT Country.Name as Country, Language, Percentage\n",
    "FROM Country\n",
    "JOIN City\n",
    "ON Country.Code = City.CountryCode\n",
    "JOIN CountryLanguage cl1\n",
    "ON Country.Code = cl1.CountryCode\n",
    "WHERE Percentage = (SELECT MAX(Percentage)\n",
    "                    FROM CountryLanguage cl2\n",
    "                    WHERE cl1.CountryCode = cl2.CountryCode)\n",
    "'''\n",
    "\n",
    "df_languages = pd.read_sql(query, db)\n",
    "df_languages"
   ]
  },
  {
   "cell_type": "markdown",
   "id": "3e82f593",
   "metadata": {},
   "source": [
    "Ya que no es una consulta trivial, voy a realizar varias consultas para comprobar si realmente tiene sentido el resultado de la anterior"
   ]
  },
  {
   "cell_type": "code",
   "execution_count": 23,
   "id": "5421dc80",
   "metadata": {},
   "outputs": [
    {
     "data": {
      "text/html": [
       "<div>\n",
       "<style scoped>\n",
       "    .dataframe tbody tr th:only-of-type {\n",
       "        vertical-align: middle;\n",
       "    }\n",
       "\n",
       "    .dataframe tbody tr th {\n",
       "        vertical-align: top;\n",
       "    }\n",
       "\n",
       "    .dataframe thead th {\n",
       "        text-align: right;\n",
       "    }\n",
       "</style>\n",
       "<table border=\"1\" class=\"dataframe\">\n",
       "  <thead>\n",
       "    <tr style=\"text-align: right;\">\n",
       "      <th></th>\n",
       "      <th>Name</th>\n",
       "    </tr>\n",
       "  </thead>\n",
       "  <tbody>\n",
       "    <tr>\n",
       "      <th>0</th>\n",
       "      <td>Aruba</td>\n",
       "    </tr>\n",
       "    <tr>\n",
       "      <th>1</th>\n",
       "      <td>Afghanistan</td>\n",
       "    </tr>\n",
       "    <tr>\n",
       "      <th>2</th>\n",
       "      <td>Angola</td>\n",
       "    </tr>\n",
       "    <tr>\n",
       "      <th>3</th>\n",
       "      <td>Anguilla</td>\n",
       "    </tr>\n",
       "    <tr>\n",
       "      <th>4</th>\n",
       "      <td>Albania</td>\n",
       "    </tr>\n",
       "    <tr>\n",
       "      <th>...</th>\n",
       "      <td>...</td>\n",
       "    </tr>\n",
       "    <tr>\n",
       "      <th>234</th>\n",
       "      <td>Yemen</td>\n",
       "    </tr>\n",
       "    <tr>\n",
       "      <th>235</th>\n",
       "      <td>Yugoslavia</td>\n",
       "    </tr>\n",
       "    <tr>\n",
       "      <th>236</th>\n",
       "      <td>South Africa</td>\n",
       "    </tr>\n",
       "    <tr>\n",
       "      <th>237</th>\n",
       "      <td>Zambia</td>\n",
       "    </tr>\n",
       "    <tr>\n",
       "      <th>238</th>\n",
       "      <td>Zimbabwe</td>\n",
       "    </tr>\n",
       "  </tbody>\n",
       "</table>\n",
       "<p>239 rows × 1 columns</p>\n",
       "</div>"
      ],
      "text/plain": [
       "             Name\n",
       "0           Aruba\n",
       "1     Afghanistan\n",
       "2          Angola\n",
       "3        Anguilla\n",
       "4         Albania\n",
       "..            ...\n",
       "234         Yemen\n",
       "235    Yugoslavia\n",
       "236  South Africa\n",
       "237        Zambia\n",
       "238      Zimbabwe\n",
       "\n",
       "[239 rows x 1 columns]"
      ]
     },
     "execution_count": 23,
     "metadata": {},
     "output_type": "execute_result"
    }
   ],
   "source": [
    "# Primero voy a ver cuantos paises hay guardados en la base de datos\n",
    "\n",
    "query = '''\n",
    "SELECT DISTINCT Country.Name\n",
    "FROM Country\n",
    "'''\n",
    "\n",
    "df_auxiliar = pd.read_sql(query, db)\n",
    "df_auxiliar"
   ]
  },
  {
   "cell_type": "markdown",
   "id": "71a33f6c",
   "metadata": {},
   "source": [
    "Se observa que en mi consulta hay 240 paises y que realmente en la base de datos hay 239 guardados, esto puede ser porque hay un país en el que se hablan dos idiomas con exactamente el mismo porcentaje. Voy a comprobar si realmente es así."
   ]
  },
  {
   "cell_type": "code",
   "execution_count": 24,
   "id": "77a0d077",
   "metadata": {},
   "outputs": [
    {
     "data": {
      "text/html": [
       "<div>\n",
       "<style scoped>\n",
       "    .dataframe tbody tr th:only-of-type {\n",
       "        vertical-align: middle;\n",
       "    }\n",
       "\n",
       "    .dataframe tbody tr th {\n",
       "        vertical-align: top;\n",
       "    }\n",
       "\n",
       "    .dataframe thead th {\n",
       "        text-align: right;\n",
       "    }\n",
       "</style>\n",
       "<table border=\"1\" class=\"dataframe\">\n",
       "  <thead>\n",
       "    <tr style=\"text-align: right;\">\n",
       "      <th></th>\n",
       "      <th>Language</th>\n",
       "      <th>Percentage</th>\n",
       "    </tr>\n",
       "    <tr>\n",
       "      <th>Country</th>\n",
       "      <th></th>\n",
       "      <th></th>\n",
       "    </tr>\n",
       "  </thead>\n",
       "  <tbody>\n",
       "    <tr>\n",
       "      <th>Christmas Island</th>\n",
       "      <td>2</td>\n",
       "      <td>2</td>\n",
       "    </tr>\n",
       "    <tr>\n",
       "      <th>Cocos (Keeling) Islands</th>\n",
       "      <td>2</td>\n",
       "      <td>2</td>\n",
       "    </tr>\n",
       "    <tr>\n",
       "      <th>Cook Islands</th>\n",
       "      <td>2</td>\n",
       "      <td>2</td>\n",
       "    </tr>\n",
       "    <tr>\n",
       "      <th>East Timor</th>\n",
       "      <td>2</td>\n",
       "      <td>2</td>\n",
       "    </tr>\n",
       "    <tr>\n",
       "      <th>Niue</th>\n",
       "      <td>2</td>\n",
       "      <td>2</td>\n",
       "    </tr>\n",
       "    <tr>\n",
       "      <th>Svalbard and Jan Mayen</th>\n",
       "      <td>2</td>\n",
       "      <td>2</td>\n",
       "    </tr>\n",
       "    <tr>\n",
       "      <th>Tokelau</th>\n",
       "      <td>2</td>\n",
       "      <td>2</td>\n",
       "    </tr>\n",
       "    <tr>\n",
       "      <th>Wallis and Futuna</th>\n",
       "      <td>2</td>\n",
       "      <td>2</td>\n",
       "    </tr>\n",
       "  </tbody>\n",
       "</table>\n",
       "</div>"
      ],
      "text/plain": [
       "                         Language  Percentage\n",
       "Country                                      \n",
       "Christmas Island                2           2\n",
       "Cocos (Keeling) Islands         2           2\n",
       "Cook Islands                    2           2\n",
       "East Timor                      2           2\n",
       "Niue                            2           2\n",
       "Svalbard and Jan Mayen          2           2\n",
       "Tokelau                         2           2\n",
       "Wallis and Futuna               2           2"
      ]
     },
     "execution_count": 24,
     "metadata": {},
     "output_type": "execute_result"
    }
   ],
   "source": [
    "df_languages.groupby([\"Country\"]).count().loc[df_languages.groupby([\"Country\"]).count()['Language'] > 1]"
   ]
  },
  {
   "cell_type": "markdown",
   "id": "7f718c28",
   "metadata": {},
   "source": [
    "Se observa que hay varios paises que tienen dos idiomas con el mismo porcentaje. No me preocupa ya que son países que no son muy conocidos y es muy poco probable que alguno de los clientes resida en estos paises, además si comprobamos cualquiera de estos en el Dataframe de idiomas vemos que el porcentaje siempre es 0%, esto entiendo que debe ser porque no tienen población y por tanto, no nos afectará en nuestro caso"
   ]
  },
  {
   "cell_type": "markdown",
   "id": "2aef5d2f",
   "metadata": {},
   "source": [
    "Sigo realizando consultas para comprobar que la consulta es correcta"
   ]
  },
  {
   "cell_type": "code",
   "execution_count": 25,
   "id": "13cf189e",
   "metadata": {},
   "outputs": [
    {
     "data": {
      "text/html": [
       "<div>\n",
       "<style scoped>\n",
       "    .dataframe tbody tr th:only-of-type {\n",
       "        vertical-align: middle;\n",
       "    }\n",
       "\n",
       "    .dataframe tbody tr th {\n",
       "        vertical-align: top;\n",
       "    }\n",
       "\n",
       "    .dataframe thead th {\n",
       "        text-align: right;\n",
       "    }\n",
       "</style>\n",
       "<table border=\"1\" class=\"dataframe\">\n",
       "  <thead>\n",
       "    <tr style=\"text-align: right;\">\n",
       "      <th></th>\n",
       "      <th>Country</th>\n",
       "      <th>Language</th>\n",
       "      <th>Percentage</th>\n",
       "    </tr>\n",
       "  </thead>\n",
       "  <tbody>\n",
       "    <tr>\n",
       "      <th>0</th>\n",
       "      <td>Yugoslavia</td>\n",
       "      <td>Albaniana</td>\n",
       "      <td>16.5</td>\n",
       "    </tr>\n",
       "    <tr>\n",
       "      <th>1</th>\n",
       "      <td>Yugoslavia</td>\n",
       "      <td>Hungarian</td>\n",
       "      <td>3.4</td>\n",
       "    </tr>\n",
       "    <tr>\n",
       "      <th>2</th>\n",
       "      <td>Yugoslavia</td>\n",
       "      <td>Macedonian</td>\n",
       "      <td>0.5</td>\n",
       "    </tr>\n",
       "    <tr>\n",
       "      <th>3</th>\n",
       "      <td>Yugoslavia</td>\n",
       "      <td>Romani</td>\n",
       "      <td>1.4</td>\n",
       "    </tr>\n",
       "    <tr>\n",
       "      <th>4</th>\n",
       "      <td>Yugoslavia</td>\n",
       "      <td>Serbo-Croatian</td>\n",
       "      <td>75.2</td>\n",
       "    </tr>\n",
       "    <tr>\n",
       "      <th>5</th>\n",
       "      <td>Yugoslavia</td>\n",
       "      <td>Slovak</td>\n",
       "      <td>0.7</td>\n",
       "    </tr>\n",
       "  </tbody>\n",
       "</table>\n",
       "</div>"
      ],
      "text/plain": [
       "      Country        Language  Percentage\n",
       "0  Yugoslavia       Albaniana        16.5\n",
       "1  Yugoslavia       Hungarian         3.4\n",
       "2  Yugoslavia      Macedonian         0.5\n",
       "3  Yugoslavia          Romani         1.4\n",
       "4  Yugoslavia  Serbo-Croatian        75.2\n",
       "5  Yugoslavia          Slovak         0.7"
      ]
     },
     "execution_count": 25,
     "metadata": {},
     "output_type": "execute_result"
    }
   ],
   "source": [
    "# Voy a comprobar que realmente la consulta está cogiendo el máximo de los porcentajes dentro de cada idioma.\n",
    "# Esto lo voy a hacer comprobando algunos de los países que hemos visto en el dataframe de lenguajes\n",
    "\n",
    "query = '''\n",
    "SELECT DISTINCT Country.Name as Country, Language, Percentage\n",
    "FROM Country\n",
    "JOIN City\n",
    "ON Country.Code = City.CountryCode\n",
    "JOIN CountryLanguage cl1\n",
    "ON Country.Code = cl1.CountryCode\n",
    "WHERE Country.Name = \"Yugoslavia\"\n",
    "'''\n",
    "\n",
    "df_auxiliar = pd.read_sql(query, db)\n",
    "df_auxiliar"
   ]
  },
  {
   "cell_type": "markdown",
   "id": "da8e720c",
   "metadata": {},
   "source": [
    "Esta es correcta"
   ]
  },
  {
   "cell_type": "code",
   "execution_count": 26,
   "id": "2901d182",
   "metadata": {},
   "outputs": [
    {
     "data": {
      "text/html": [
       "<div>\n",
       "<style scoped>\n",
       "    .dataframe tbody tr th:only-of-type {\n",
       "        vertical-align: middle;\n",
       "    }\n",
       "\n",
       "    .dataframe tbody tr th {\n",
       "        vertical-align: top;\n",
       "    }\n",
       "\n",
       "    .dataframe thead th {\n",
       "        text-align: right;\n",
       "    }\n",
       "</style>\n",
       "<table border=\"1\" class=\"dataframe\">\n",
       "  <thead>\n",
       "    <tr style=\"text-align: right;\">\n",
       "      <th></th>\n",
       "      <th>Country</th>\n",
       "      <th>Language</th>\n",
       "      <th>Percentage</th>\n",
       "    </tr>\n",
       "  </thead>\n",
       "  <tbody>\n",
       "    <tr>\n",
       "      <th>0</th>\n",
       "      <td>Zimbabwe</td>\n",
       "      <td>English</td>\n",
       "      <td>2.2</td>\n",
       "    </tr>\n",
       "    <tr>\n",
       "      <th>1</th>\n",
       "      <td>Zimbabwe</td>\n",
       "      <td>Ndebele</td>\n",
       "      <td>16.2</td>\n",
       "    </tr>\n",
       "    <tr>\n",
       "      <th>2</th>\n",
       "      <td>Zimbabwe</td>\n",
       "      <td>Nyanja</td>\n",
       "      <td>2.2</td>\n",
       "    </tr>\n",
       "    <tr>\n",
       "      <th>3</th>\n",
       "      <td>Zimbabwe</td>\n",
       "      <td>Shona</td>\n",
       "      <td>72.1</td>\n",
       "    </tr>\n",
       "  </tbody>\n",
       "</table>\n",
       "</div>"
      ],
      "text/plain": [
       "    Country Language  Percentage\n",
       "0  Zimbabwe  English         2.2\n",
       "1  Zimbabwe  Ndebele        16.2\n",
       "2  Zimbabwe   Nyanja         2.2\n",
       "3  Zimbabwe    Shona        72.1"
      ]
     },
     "execution_count": 26,
     "metadata": {},
     "output_type": "execute_result"
    }
   ],
   "source": [
    "query = '''\n",
    "SELECT DISTINCT Country.Name as Country, Language, Percentage\n",
    "FROM Country\n",
    "JOIN City\n",
    "ON Country.Code = City.CountryCode\n",
    "JOIN CountryLanguage cl1\n",
    "ON Country.Code = cl1.CountryCode\n",
    "WHERE Country.Name = \"Zimbabwe\"\n",
    "'''\n",
    "\n",
    "df_auxiliar = pd.read_sql(query, db)\n",
    "df_auxiliar"
   ]
  },
  {
   "cell_type": "markdown",
   "id": "d7f8e56c",
   "metadata": {},
   "source": [
    "También correcta, una última comprobación:"
   ]
  },
  {
   "cell_type": "code",
   "execution_count": 27,
   "id": "86b74c29",
   "metadata": {},
   "outputs": [
    {
     "data": {
      "text/html": [
       "<div>\n",
       "<style scoped>\n",
       "    .dataframe tbody tr th:only-of-type {\n",
       "        vertical-align: middle;\n",
       "    }\n",
       "\n",
       "    .dataframe tbody tr th {\n",
       "        vertical-align: top;\n",
       "    }\n",
       "\n",
       "    .dataframe thead th {\n",
       "        text-align: right;\n",
       "    }\n",
       "</style>\n",
       "<table border=\"1\" class=\"dataframe\">\n",
       "  <thead>\n",
       "    <tr style=\"text-align: right;\">\n",
       "      <th></th>\n",
       "      <th>Country</th>\n",
       "      <th>Language</th>\n",
       "      <th>Percentage</th>\n",
       "    </tr>\n",
       "  </thead>\n",
       "  <tbody>\n",
       "    <tr>\n",
       "      <th>0</th>\n",
       "      <td>Afghanistan</td>\n",
       "      <td>Balochi</td>\n",
       "      <td>0.9</td>\n",
       "    </tr>\n",
       "    <tr>\n",
       "      <th>1</th>\n",
       "      <td>Afghanistan</td>\n",
       "      <td>Dari</td>\n",
       "      <td>32.1</td>\n",
       "    </tr>\n",
       "    <tr>\n",
       "      <th>2</th>\n",
       "      <td>Afghanistan</td>\n",
       "      <td>Pashto</td>\n",
       "      <td>52.4</td>\n",
       "    </tr>\n",
       "    <tr>\n",
       "      <th>3</th>\n",
       "      <td>Afghanistan</td>\n",
       "      <td>Turkmenian</td>\n",
       "      <td>1.9</td>\n",
       "    </tr>\n",
       "    <tr>\n",
       "      <th>4</th>\n",
       "      <td>Afghanistan</td>\n",
       "      <td>Uzbek</td>\n",
       "      <td>8.8</td>\n",
       "    </tr>\n",
       "  </tbody>\n",
       "</table>\n",
       "</div>"
      ],
      "text/plain": [
       "       Country    Language  Percentage\n",
       "0  Afghanistan     Balochi         0.9\n",
       "1  Afghanistan        Dari        32.1\n",
       "2  Afghanistan      Pashto        52.4\n",
       "3  Afghanistan  Turkmenian         1.9\n",
       "4  Afghanistan       Uzbek         8.8"
      ]
     },
     "execution_count": 27,
     "metadata": {},
     "output_type": "execute_result"
    }
   ],
   "source": [
    "query = '''\n",
    "SELECT DISTINCT Country.Name as Country, Language, Percentage\n",
    "FROM Country\n",
    "JOIN City\n",
    "ON Country.Code = City.CountryCode\n",
    "JOIN CountryLanguage cl1\n",
    "ON Country.Code = cl1.CountryCode\n",
    "WHERE Country.Name = \"Afghanistan\"\n",
    "'''\n",
    "\n",
    "\n",
    "df_auxiliar = pd.read_sql(query, db)\n",
    "df_auxiliar"
   ]
  },
  {
   "cell_type": "markdown",
   "id": "6138ba18",
   "metadata": {},
   "source": [
    "También correcta, ahora voy a comprobar que los nombres de los paises sean los mismos en los dos origenes de datos."
   ]
  },
  {
   "cell_type": "code",
   "execution_count": 28,
   "id": "959020ba",
   "metadata": {},
   "outputs": [
    {
     "data": {
      "text/plain": [
       "['Norway  ', 'USA', 'UK']"
      ]
     },
     "execution_count": 28,
     "metadata": {},
     "output_type": "execute_result"
    }
   ],
   "source": [
    "paises_clientes = set(df_clientes['PAIS'])\n",
    "paises_idiomas = df_languages[df_languages['Country'].isin(paises_clientes)]['Country']\n",
    "paises_no_iguales = list(paises_clientes - set(paises_idiomas))\n",
    "paises_no_iguales"
   ]
  },
  {
   "cell_type": "markdown",
   "id": "5b586268",
   "metadata": {},
   "source": [
    "Vemos que a Noruega, Reino Unido y Estados unidos no se les hace referencia de la misma forma, al ser solo tres, voy a cambiarlo directamente por ser más rápido y así hacer el merge de los clientes e idiomas directamente."
   ]
  },
  {
   "cell_type": "code",
   "execution_count": 29,
   "id": "41d44243",
   "metadata": {},
   "outputs": [
    {
     "data": {
      "text/html": [
       "<div>\n",
       "<style scoped>\n",
       "    .dataframe tbody tr th:only-of-type {\n",
       "        vertical-align: middle;\n",
       "    }\n",
       "\n",
       "    .dataframe tbody tr th {\n",
       "        vertical-align: top;\n",
       "    }\n",
       "\n",
       "    .dataframe thead th {\n",
       "        text-align: right;\n",
       "    }\n",
       "</style>\n",
       "<table border=\"1\" class=\"dataframe\">\n",
       "  <thead>\n",
       "    <tr style=\"text-align: right;\">\n",
       "      <th></th>\n",
       "      <th>Country</th>\n",
       "      <th>Language</th>\n",
       "      <th>Percentage</th>\n",
       "    </tr>\n",
       "  </thead>\n",
       "  <tbody>\n",
       "    <tr>\n",
       "      <th>0</th>\n",
       "      <td>United Kingdom</td>\n",
       "      <td>English</td>\n",
       "      <td>97.3</td>\n",
       "    </tr>\n",
       "    <tr>\n",
       "      <th>1</th>\n",
       "      <td>United Kingdom</td>\n",
       "      <td>Gaeli</td>\n",
       "      <td>0.1</td>\n",
       "    </tr>\n",
       "    <tr>\n",
       "      <th>2</th>\n",
       "      <td>United Kingdom</td>\n",
       "      <td>Kymri</td>\n",
       "      <td>0.9</td>\n",
       "    </tr>\n",
       "    <tr>\n",
       "      <th>3</th>\n",
       "      <td>Norway</td>\n",
       "      <td>Danish</td>\n",
       "      <td>0.4</td>\n",
       "    </tr>\n",
       "    <tr>\n",
       "      <th>4</th>\n",
       "      <td>Norway</td>\n",
       "      <td>English</td>\n",
       "      <td>0.5</td>\n",
       "    </tr>\n",
       "    <tr>\n",
       "      <th>5</th>\n",
       "      <td>Norway</td>\n",
       "      <td>Norwegian</td>\n",
       "      <td>96.6</td>\n",
       "    </tr>\n",
       "    <tr>\n",
       "      <th>6</th>\n",
       "      <td>Norway</td>\n",
       "      <td>Saame</td>\n",
       "      <td>0.0</td>\n",
       "    </tr>\n",
       "    <tr>\n",
       "      <th>7</th>\n",
       "      <td>Norway</td>\n",
       "      <td>Swedish</td>\n",
       "      <td>0.3</td>\n",
       "    </tr>\n",
       "    <tr>\n",
       "      <th>8</th>\n",
       "      <td>United States</td>\n",
       "      <td>Chinese</td>\n",
       "      <td>0.6</td>\n",
       "    </tr>\n",
       "    <tr>\n",
       "      <th>9</th>\n",
       "      <td>United States</td>\n",
       "      <td>English</td>\n",
       "      <td>86.2</td>\n",
       "    </tr>\n",
       "    <tr>\n",
       "      <th>10</th>\n",
       "      <td>United States</td>\n",
       "      <td>French</td>\n",
       "      <td>0.7</td>\n",
       "    </tr>\n",
       "    <tr>\n",
       "      <th>11</th>\n",
       "      <td>United States</td>\n",
       "      <td>German</td>\n",
       "      <td>0.7</td>\n",
       "    </tr>\n",
       "    <tr>\n",
       "      <th>12</th>\n",
       "      <td>United States</td>\n",
       "      <td>Italian</td>\n",
       "      <td>0.6</td>\n",
       "    </tr>\n",
       "    <tr>\n",
       "      <th>13</th>\n",
       "      <td>United States</td>\n",
       "      <td>Japanese</td>\n",
       "      <td>0.2</td>\n",
       "    </tr>\n",
       "    <tr>\n",
       "      <th>14</th>\n",
       "      <td>United States</td>\n",
       "      <td>Korean</td>\n",
       "      <td>0.3</td>\n",
       "    </tr>\n",
       "    <tr>\n",
       "      <th>15</th>\n",
       "      <td>United States</td>\n",
       "      <td>Polish</td>\n",
       "      <td>0.3</td>\n",
       "    </tr>\n",
       "    <tr>\n",
       "      <th>16</th>\n",
       "      <td>United States</td>\n",
       "      <td>Portuguese</td>\n",
       "      <td>0.2</td>\n",
       "    </tr>\n",
       "    <tr>\n",
       "      <th>17</th>\n",
       "      <td>United States</td>\n",
       "      <td>Spanish</td>\n",
       "      <td>7.5</td>\n",
       "    </tr>\n",
       "    <tr>\n",
       "      <th>18</th>\n",
       "      <td>United States</td>\n",
       "      <td>Tagalog</td>\n",
       "      <td>0.4</td>\n",
       "    </tr>\n",
       "    <tr>\n",
       "      <th>19</th>\n",
       "      <td>United States</td>\n",
       "      <td>Vietnamese</td>\n",
       "      <td>0.2</td>\n",
       "    </tr>\n",
       "  </tbody>\n",
       "</table>\n",
       "</div>"
      ],
      "text/plain": [
       "           Country    Language  Percentage\n",
       "0   United Kingdom     English        97.3\n",
       "1   United Kingdom       Gaeli         0.1\n",
       "2   United Kingdom       Kymri         0.9\n",
       "3           Norway      Danish         0.4\n",
       "4           Norway     English         0.5\n",
       "5           Norway   Norwegian        96.6\n",
       "6           Norway       Saame         0.0\n",
       "7           Norway     Swedish         0.3\n",
       "8    United States     Chinese         0.6\n",
       "9    United States     English        86.2\n",
       "10   United States      French         0.7\n",
       "11   United States      German         0.7\n",
       "12   United States     Italian         0.6\n",
       "13   United States    Japanese         0.2\n",
       "14   United States      Korean         0.3\n",
       "15   United States      Polish         0.3\n",
       "16   United States  Portuguese         0.2\n",
       "17   United States     Spanish         7.5\n",
       "18   United States     Tagalog         0.4\n",
       "19   United States  Vietnamese         0.2"
      ]
     },
     "execution_count": 29,
     "metadata": {},
     "output_type": "execute_result"
    }
   ],
   "source": [
    "# Primero localizamos como se ha hecho referencia a estos paises en la BBDD world\n",
    "\n",
    "# En el caso de Noruega es por el espacio despues del nombre\n",
    "\n",
    "query = '''\n",
    "SELECT DISTINCT Country.Name as Country, Language, Percentage\n",
    "FROM Country\n",
    "JOIN City\n",
    "ON Country.Code = City.CountryCode\n",
    "JOIN CountryLanguage cl1\n",
    "ON Country.Code = cl1.CountryCode\n",
    "WHERE Country.Name = \"United States\" OR Country.Name = \"United Kingdom\" OR Country.Name = \"Norway\"\n",
    "'''\n",
    "\n",
    "\n",
    "df_auxiliar = pd.read_sql(query, db)\n",
    "df_auxiliar"
   ]
  },
  {
   "cell_type": "code",
   "execution_count": 30,
   "id": "07b8d32a",
   "metadata": {},
   "outputs": [],
   "source": [
    "# Modificamos los dataframe para poder hacer el merge posteriormente\n",
    "\n",
    "df_languages.replace(['United States', 'United Kingdom'], ['USA', 'UK'], inplace = True)\n",
    "df_clientes.replace(['Norway  '], ['Norway'], inplace = True)"
   ]
  },
  {
   "cell_type": "code",
   "execution_count": 31,
   "id": "1a6504b7",
   "metadata": {},
   "outputs": [],
   "source": [
    "# Realizo el merge para atribuirle a cada cliente su idioma a través del país de nacimiento\n",
    "\n",
    "df_idiomas_clientes = df_clientes.merge(df_languages, how=\"left\", left_on=\"PAIS\", right_on=\"Country\")"
   ]
  },
  {
   "cell_type": "code",
   "execution_count": 32,
   "id": "11a8e620",
   "metadata": {},
   "outputs": [],
   "source": [
    "# Elimino las columnas que no me interesan \n",
    "\n",
    "df_idiomas_clientes.drop(columns=['NOMBRE', 'TELEFONO', 'DIRECCION', \n",
    "                                  'CIUDAD', 'ESTADO', 'CODIGO_POSTAL', 'PAIS', 'Country', 'Percentage'], inplace=True)"
   ]
  },
  {
   "cell_type": "code",
   "execution_count": 33,
   "id": "4ec4ad79",
   "metadata": {},
   "outputs": [],
   "source": [
    "# Cambio el nombre de las columnas que voy a almacenar en la base de datos\n",
    "\n",
    "df_idiomas_clientes.rename(columns={\"ID\":\"ID_CLIENTE\", \"Language\":\"LANGUAGE\"}, inplace=True)"
   ]
  },
  {
   "cell_type": "code",
   "execution_count": 34,
   "id": "c85d9210",
   "metadata": {},
   "outputs": [
    {
     "data": {
      "text/plain": [
       "98"
      ]
     },
     "execution_count": 34,
     "metadata": {},
     "output_type": "execute_result"
    }
   ],
   "source": [
    "# Creo la tabla en la BBDD y almaceno los datos\n",
    "\n",
    "df_idiomas_clientes.to_sql('IDIOMAS_CLIENTE', conn, index=False, if_exists='replace')"
   ]
  },
  {
   "cell_type": "code",
   "execution_count": 35,
   "id": "c3c0aa4f",
   "metadata": {
    "scrolled": true
   },
   "outputs": [
    {
     "data": {
      "text/plain": [
       "[(363, 'English'),\n",
       " (128, 'German'),\n",
       " (181, 'English'),\n",
       " (121, 'Norwegian'),\n",
       " (141, 'Spanish'),\n",
       " (145, 'Danish'),\n",
       " (278, 'Italian'),\n",
       " (131, 'English'),\n",
       " (385, 'Pilipino'),\n",
       " (486, 'English'),\n",
       " (187, 'English'),\n",
       " (129, 'English'),\n",
       " (144, 'Swedish'),\n",
       " (124, 'English'),\n",
       " (172, 'French'),\n",
       " (424, 'English'),\n",
       " (381, 'Dutch'),\n",
       " (148, 'Chinese'),\n",
       " (216, 'Spanish'),\n",
       " (382, 'German'),\n",
       " (114, 'English'),\n",
       " (353, 'French'),\n",
       " (350, 'French'),\n",
       " (103, 'French'),\n",
       " (112, 'English'),\n",
       " (458, 'Spanish'),\n",
       " (151, 'English'),\n",
       " (324, 'English'),\n",
       " (198, 'English'),\n",
       " (447, 'English'),\n",
       " (323, 'English'),\n",
       " (250, 'French'),\n",
       " (242, 'French'),\n",
       " (496, 'English'),\n",
       " (282, 'English'),\n",
       " (161, 'English'),\n",
       " (334, 'Finnish'),\n",
       " (320, 'English'),\n",
       " (205, 'English'),\n",
       " (379, 'English'),\n",
       " (276, 'English'),\n",
       " (487, 'English'),\n",
       " (311, 'Finnish'),\n",
       " (333, 'English'),\n",
       " (219, 'English'),\n",
       " (186, 'Finnish'),\n",
       " (473, 'Italian'),\n",
       " (321, 'English'),\n",
       " (347, 'English'),\n",
       " (227, 'Danish'),\n",
       " (452, 'German'),\n",
       " (462, 'English'),\n",
       " (448, 'Swedish'),\n",
       " (233, 'English'),\n",
       " (175, 'English'),\n",
       " (386, 'Italian'),\n",
       " (344, 'Spanish'),\n",
       " (171, 'French'),\n",
       " (167, 'Norwegian'),\n",
       " (339, 'English'),\n",
       " (484, 'Spanish'),\n",
       " (489, 'English'),\n",
       " (211, 'Canton Chinese'),\n",
       " (259, 'German'),\n",
       " (471, 'English'),\n",
       " (146, 'French'),\n",
       " (319, 'English'),\n",
       " (455, 'English'),\n",
       " (475, 'English'),\n",
       " (357, 'English'),\n",
       " (202, 'English'),\n",
       " (495, 'English'),\n",
       " (177, 'Japanese'),\n",
       " (406, 'French'),\n",
       " (256, 'French'),\n",
       " (166, 'Chinese'),\n",
       " (189, 'English'),\n",
       " (314, 'Dutch'),\n",
       " (239, 'English'),\n",
       " (298, 'German'),\n",
       " (173, 'English'),\n",
       " (240, 'English'),\n",
       " (328, 'English'),\n",
       " (412, 'English'),\n",
       " (260, 'English'),\n",
       " (209, 'French'),\n",
       " (456, 'English'),\n",
       " (450, 'English'),\n",
       " (201, 'English'),\n",
       " (398, 'Japanese'),\n",
       " (362, 'English'),\n",
       " (157, 'English'),\n",
       " (119, 'French'),\n",
       " (204, 'English'),\n",
       " (249, 'Italian'),\n",
       " (299, 'Norwegian'),\n",
       " (286, 'English'),\n",
       " (415, 'German')]"
      ]
     },
     "execution_count": 35,
     "metadata": {},
     "output_type": "execute_result"
    }
   ],
   "source": [
    "# Para terminar este bloque compruebo que se ha guardado correctamente\n",
    "\n",
    "query = '''\n",
    "    SELECT *\n",
    "    FROM IDIOMAS_CLIENTE\n",
    "'''\n",
    "cursor.execute(query)\n",
    "cursor.fetchall()"
   ]
  },
  {
   "cell_type": "markdown",
   "id": "657f0953",
   "metadata": {},
   "source": [
    "## Opcional - Producto con más beneficios"
   ]
  },
  {
   "cell_type": "code",
   "execution_count": 36,
   "id": "48f74a99",
   "metadata": {},
   "outputs": [
    {
     "data": {
      "text/plain": [
       "[('S18_3232', '1992 Ferrari 360 Spider red', 135996.78)]"
      ]
     },
     "execution_count": 36,
     "metadata": {},
     "output_type": "execute_result"
    }
   ],
   "source": [
    "query = '''\n",
    "    SELECT CODIGO, NOMBRE, SUM(BENEFICIO_PRODUCTO * VECES_VENDIDO) AS BENEFICIO_TOTAL\n",
    "    FROM (SELECT CODIGO, NOMBRE, PRECIO - PRECIO_COMPRA AS BENEFICIO_PRODUCTO, SUM(CANTIDAD) AS VECES_VENDIDO\n",
    "        FROM PRODUCTOS\n",
    "        JOIN VENTAS\n",
    "        ON CODIGO = CODIGO_PRODUCTO\n",
    "        GROUP BY CODIGO, NOMBRE, BENEFICIO_PRODUCTO) TABLA1\n",
    "    GROUP BY CODIGO, NOMBRE\n",
    "    ORDER BY BENEFICIO_TOTAL DESC\n",
    "    LIMIT 1;   \n",
    "'''\n",
    "cursor.execute(query)\n",
    "cursor.fetchall()"
   ]
  }
 ],
 "metadata": {
  "kernelspec": {
   "display_name": "Python 3 (ipykernel)",
   "language": "python",
   "name": "python3"
  },
  "language_info": {
   "codemirror_mode": {
    "name": "ipython",
    "version": 3
   },
   "file_extension": ".py",
   "mimetype": "text/x-python",
   "name": "python",
   "nbconvert_exporter": "python",
   "pygments_lexer": "ipython3",
   "version": "3.10.6"
  }
 },
 "nbformat": 4,
 "nbformat_minor": 5
}
