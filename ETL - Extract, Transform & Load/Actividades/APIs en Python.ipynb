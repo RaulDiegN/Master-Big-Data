{
 "cells": [
  {
   "cell_type": "markdown",
   "id": "e20b537a",
   "metadata": {},
   "source": [
    "# Actividad 4 - Sesión 5 - API"
   ]
  },
  {
   "cell_type": "markdown",
   "id": "14c71e6f",
   "metadata": {},
   "source": [
    "Para empezar me he registrado en las dos páginas para obtener las claves de las APIs correspondientes."
   ]
  },
  {
   "cell_type": "code",
   "execution_count": 1,
   "id": "5986f5ce",
   "metadata": {},
   "outputs": [],
   "source": [
    "api_key_OpenCage = '7a07f1fc6eca4fdfb13d69f7c98b92d5'\n",
    "api_key_OpenWeather = 'a06f6793beb12982d311cf003080829c'"
   ]
  },
  {
   "cell_type": "markdown",
   "id": "2f038c16",
   "metadata": {},
   "source": [
    "Una vez que tengo las claves definidas y guardadas, el siguiente paso es importar las librerias que voy a usar para este código"
   ]
  },
  {
   "cell_type": "code",
   "execution_count": 2,
   "id": "c16beb17",
   "metadata": {},
   "outputs": [],
   "source": [
    "import json\n",
    "import urllib.parse"
   ]
  },
  {
   "cell_type": "markdown",
   "id": "e91d064c",
   "metadata": {},
   "source": [
    "Como especifica en el enunciado pido por pantalla la direccion al usuario"
   ]
  },
  {
   "cell_type": "code",
   "execution_count": 3,
   "id": "78401c25",
   "metadata": {},
   "outputs": [
    {
     "name": "stdout",
     "output_type": "stream",
     "text": [
      "Introduzca una dirección:Calle Jaime Del Amo, Madrid\n"
     ]
    }
   ],
   "source": [
    "direccion = urllib.parse.quote(input(\"Introduzca una dirección:\"))"
   ]
  },
  {
   "cell_type": "markdown",
   "id": "8798e7e3",
   "metadata": {},
   "source": [
    "Una vez sé la dirección, llamo a la primera API y obetengo las coordenadas exactas en las que se va a pedir el tiempo a la segunda API."
   ]
  },
  {
   "cell_type": "code",
   "execution_count": 4,
   "id": "5b563dcb",
   "metadata": {},
   "outputs": [],
   "source": [
    "url = 'https://api.opencagedata.com/geocode/v1/json?q=' + direccion + '&key=' + api_key_OpenCage\n",
    "\n",
    "data = urllib.request.urlopen(url).read().decode()\n",
    "\n",
    "js = json.loads(data)\n",
    "\n",
    "lat = js['results'][0]['geometry']['lat']\n",
    "lon = js['results'][0]['geometry']['lng']"
   ]
  },
  {
   "cell_type": "markdown",
   "id": "0d8bbef1",
   "metadata": {},
   "source": [
    "Llamo a la segunda API y obtengo las temperaturas pedidas."
   ]
  },
  {
   "cell_type": "code",
   "execution_count": 5,
   "id": "efd1cab9",
   "metadata": {},
   "outputs": [],
   "source": [
    "url = ('https://api.openweathermap.org/data/2.5/forecast?lat='+ str(lat) \n",
    "       + '&lon=' + str(lon) + '&appid=' + api_key_OpenWeather + '&units=metric')\n",
    "\n",
    "data = urllib.request.urlopen(url).read().decode()\n",
    "\n",
    "js = json.loads(data)\n",
    "\n",
    "temp = js['list'][0]['main']['temp']\n",
    "temp_max = js['list'][0]['main']['temp_min']\n",
    "temp_min = js['list'][0]['main']['temp_max']"
   ]
  },
  {
   "cell_type": "markdown",
   "id": "d57239de",
   "metadata": {},
   "source": [
    "Por último, se imprime por pantalla las temperaturas obtenidas, para darlas a conocer al usuario"
   ]
  },
  {
   "cell_type": "code",
   "execution_count": 6,
   "id": "e9130591",
   "metadata": {},
   "outputs": [
    {
     "name": "stdout",
     "output_type": "stream",
     "text": [
      "La temperatura ahora mismo es 6.67\n",
      "La temperatura máxima es 6.58\n",
      "La temperatura mínima es 6.67\n"
     ]
    }
   ],
   "source": [
    "print('La temperatura ahora mismo es '+ str(temp))\n",
    "print('La temperatura máxima es '+ str(temp_max))\n",
    "print('La temperatura mínima es '+ str(temp_min))"
   ]
  }
 ],
 "metadata": {
  "kernelspec": {
   "display_name": "Python 3 (ipykernel)",
   "language": "python",
   "name": "python3"
  },
  "language_info": {
   "codemirror_mode": {
    "name": "ipython",
    "version": 3
   },
   "file_extension": ".py",
   "mimetype": "text/x-python",
   "name": "python",
   "nbconvert_exporter": "python",
   "pygments_lexer": "ipython3",
   "version": "3.10.6"
  }
 },
 "nbformat": 4,
 "nbformat_minor": 5
}
